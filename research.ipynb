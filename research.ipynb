{
 "cells": [
  {
   "cell_type": "code",
   "execution_count": 1,
   "metadata": {},
   "outputs": [],
   "source": [
    "import pandas as pd\n",
    "import os"
   ]
  },
  {
   "cell_type": "code",
   "execution_count": 47,
   "metadata": {},
   "outputs": [],
   "source": [
    "cf = pd.read_csv(os.path.abspath('./src/data/client.csv'))\n",
    "sf = pd.read_csv(os.path.abspath('./src/data/server.csv'))"
   ]
  },
  {
   "cell_type": "code",
   "execution_count": 48,
   "metadata": {},
   "outputs": [],
   "source": [
    "cf['timestamp'] = cf['timestamp'].astype('datetime64[ns]')\n",
    "sf['timestamp'] = sf['timestamp'].astype('datetime64[ns]')"
   ]
  },
  {
   "cell_type": "code",
   "execution_count": 49,
   "metadata": {},
   "outputs": [
    {
     "name": "stdout",
     "output_type": "stream",
     "text": [
      "<class 'pandas.core.frame.DataFrame'>\n",
      "RangeIndex: 66679 entries, 0 to 66678\n",
      "Data columns (total 4 columns):\n",
      " #   Column       Non-Null Count  Dtype         \n",
      "---  ------       --------------  -----         \n",
      " 0   timestamp    66679 non-null  datetime64[ns]\n",
      " 1   error_id     66679 non-null  object        \n",
      " 2   player_id    66679 non-null  int64         \n",
      " 3   description  66679 non-null  object        \n",
      "dtypes: datetime64[ns](1), int64(1), object(2)\n",
      "memory usage: 2.0+ MB\n"
     ]
    }
   ],
   "source": [
    "cf.info()"
   ]
  },
  {
   "cell_type": "code",
   "execution_count": 99,
   "metadata": {},
   "outputs": [
    {
     "name": "stdout",
     "output_type": "stream",
     "text": [
      "<class 'pandas.core.frame.DataFrame'>\n",
      "RangeIndex: 66675 entries, 0 to 66674\n",
      "Data columns (total 4 columns):\n",
      " #   Column       Non-Null Count  Dtype         \n",
      "---  ------       --------------  -----         \n",
      " 0   timestamp    66675 non-null  datetime64[ns]\n",
      " 1   event_id     66675 non-null  int64         \n",
      " 2   error_id     66675 non-null  object        \n",
      " 3   description  66675 non-null  object        \n",
      "dtypes: datetime64[ns](1), int64(1), object(2)\n",
      "memory usage: 2.0+ MB\n"
     ]
    }
   ],
   "source": [
    "sf.info()"
   ]
  },
  {
   "cell_type": "code",
   "execution_count": 50,
   "metadata": {},
   "outputs": [
    {
     "data": {
      "text/html": [
       "<div>\n",
       "<style scoped>\n",
       "    .dataframe tbody tr th:only-of-type {\n",
       "        vertical-align: middle;\n",
       "    }\n",
       "\n",
       "    .dataframe tbody tr th {\n",
       "        vertical-align: top;\n",
       "    }\n",
       "\n",
       "    .dataframe thead th {\n",
       "        text-align: right;\n",
       "    }\n",
       "</style>\n",
       "<table border=\"1\" class=\"dataframe\">\n",
       "  <thead>\n",
       "    <tr style=\"text-align: right;\">\n",
       "      <th></th>\n",
       "      <th>timestamp</th>\n",
       "      <th>error_id</th>\n",
       "      <th>player_id</th>\n",
       "      <th>description</th>\n",
       "    </tr>\n",
       "  </thead>\n",
       "  <tbody>\n",
       "    <tr>\n",
       "      <th>0</th>\n",
       "      <td>1970-01-01 00:00:01.615148137</td>\n",
       "      <td>9f38f71f-427c-4708-89b1-460447beee60</td>\n",
       "      <td>808459</td>\n",
       "      <td>{\"purpose\": \"```continue\\nOf special middle ma...</td>\n",
       "    </tr>\n",
       "    <tr>\n",
       "      <th>1</th>\n",
       "      <td>1970-01-01 00:00:01.621913820</td>\n",
       "      <td>52f42851-6d59-4357-9377-034f1ffdc011</td>\n",
       "      <td>687824</td>\n",
       "      <td>{\"purpose\": \"Professional mean common able gun...</td>\n",
       "    </tr>\n",
       "    <tr>\n",
       "      <th>2</th>\n",
       "      <td>1970-01-01 00:00:01.609941800</td>\n",
       "      <td>bf863c14-64a3-4edc-b9ff-49a6c0955166</td>\n",
       "      <td>729781</td>\n",
       "      <td>{\"purpose\": \"![Without any in us daughter conf...</td>\n",
       "    </tr>\n",
       "    <tr>\n",
       "      <th>3</th>\n",
       "      <td>1970-01-01 00:00:01.612068364</td>\n",
       "      <td>38152c64-d439-43cf-9856-4ca35d39d7ac</td>\n",
       "      <td>131824</td>\n",
       "      <td>{\"purpose\": \"&lt;!-- Serious raise try everyone. ...</td>\n",
       "    </tr>\n",
       "    <tr>\n",
       "      <th>4</th>\n",
       "      <td>1970-01-01 00:00:01.622449698</td>\n",
       "      <td>d67cef6e-40fb-4301-9d0d-4c6674c275a7</td>\n",
       "      <td>169066</td>\n",
       "      <td>{\"purpose\": \"&gt; Sound manage their.\\n\\nPopular ...</td>\n",
       "    </tr>\n",
       "  </tbody>\n",
       "</table>\n",
       "</div>"
      ],
      "text/plain": [
       "                      timestamp                              error_id  \\\n",
       "0 1970-01-01 00:00:01.615148137  9f38f71f-427c-4708-89b1-460447beee60   \n",
       "1 1970-01-01 00:00:01.621913820  52f42851-6d59-4357-9377-034f1ffdc011   \n",
       "2 1970-01-01 00:00:01.609941800  bf863c14-64a3-4edc-b9ff-49a6c0955166   \n",
       "3 1970-01-01 00:00:01.612068364  38152c64-d439-43cf-9856-4ca35d39d7ac   \n",
       "4 1970-01-01 00:00:01.622449698  d67cef6e-40fb-4301-9d0d-4c6674c275a7   \n",
       "\n",
       "   player_id                                        description  \n",
       "0     808459  {\"purpose\": \"```continue\\nOf special middle ma...  \n",
       "1     687824  {\"purpose\": \"Professional mean common able gun...  \n",
       "2     729781  {\"purpose\": \"![Without any in us daughter conf...  \n",
       "3     131824  {\"purpose\": \"<!-- Serious raise try everyone. ...  \n",
       "4     169066  {\"purpose\": \"> Sound manage their.\\n\\nPopular ...  "
      ]
     },
     "execution_count": 50,
     "metadata": {},
     "output_type": "execute_result"
    }
   ],
   "source": [
    "cf.head()"
   ]
  },
  {
   "cell_type": "code",
   "execution_count": 51,
   "metadata": {},
   "outputs": [
    {
     "data": {
      "text/html": [
       "<div>\n",
       "<style scoped>\n",
       "    .dataframe tbody tr th:only-of-type {\n",
       "        vertical-align: middle;\n",
       "    }\n",
       "\n",
       "    .dataframe tbody tr th {\n",
       "        vertical-align: top;\n",
       "    }\n",
       "\n",
       "    .dataframe thead th {\n",
       "        text-align: right;\n",
       "    }\n",
       "</style>\n",
       "<table border=\"1\" class=\"dataframe\">\n",
       "  <thead>\n",
       "    <tr style=\"text-align: right;\">\n",
       "      <th></th>\n",
       "      <th>timestamp</th>\n",
       "      <th>event_id</th>\n",
       "      <th>error_id</th>\n",
       "      <th>description</th>\n",
       "    </tr>\n",
       "  </thead>\n",
       "  <tbody>\n",
       "    <tr>\n",
       "      <th>0</th>\n",
       "      <td>1970-01-01 00:00:01.613793745</td>\n",
       "      <td>48</td>\n",
       "      <td>c63c530e-cb13-45af-a5d6-98b496e25914</td>\n",
       "      <td>{\"purpose\": \"1. Outside media section try idea...</td>\n",
       "    </tr>\n",
       "    <tr>\n",
       "      <th>1</th>\n",
       "      <td>1970-01-01 00:00:01.612068364</td>\n",
       "      <td>76</td>\n",
       "      <td>38152c64-d439-43cf-9856-4ca35d39d7ac</td>\n",
       "      <td>{\"purpose\": \"***\\n\\n|Yet know ten just.|Us ind...</td>\n",
       "    </tr>\n",
       "    <tr>\n",
       "      <th>2</th>\n",
       "      <td>1970-01-01 00:00:01.611038860</td>\n",
       "      <td>79</td>\n",
       "      <td>42466610-f76d-4b88-a45d-613ba9908cd0</td>\n",
       "      <td>{\"purpose\": \"1. Fall court door forget give as...</td>\n",
       "    </tr>\n",
       "    <tr>\n",
       "      <th>3</th>\n",
       "      <td>1970-01-01 00:00:01.622449698</td>\n",
       "      <td>39</td>\n",
       "      <td>d67cef6e-40fb-4301-9d0d-4c6674c275a7</td>\n",
       "      <td>{\"purpose\": \"Lay authority debate fast. Cut re...</td>\n",
       "    </tr>\n",
       "    <tr>\n",
       "      <th>4</th>\n",
       "      <td>1970-01-01 00:00:01.613256285</td>\n",
       "      <td>64</td>\n",
       "      <td>621cf303-9bb0-4c63-8eb0-6de9a2538fda</td>\n",
       "      <td>{\"purpose\": \"&lt;!-- Talk significant yourself se...</td>\n",
       "    </tr>\n",
       "  </tbody>\n",
       "</table>\n",
       "</div>"
      ],
      "text/plain": [
       "                      timestamp  event_id  \\\n",
       "0 1970-01-01 00:00:01.613793745        48   \n",
       "1 1970-01-01 00:00:01.612068364        76   \n",
       "2 1970-01-01 00:00:01.611038860        79   \n",
       "3 1970-01-01 00:00:01.622449698        39   \n",
       "4 1970-01-01 00:00:01.613256285        64   \n",
       "\n",
       "                               error_id  \\\n",
       "0  c63c530e-cb13-45af-a5d6-98b496e25914   \n",
       "1  38152c64-d439-43cf-9856-4ca35d39d7ac   \n",
       "2  42466610-f76d-4b88-a45d-613ba9908cd0   \n",
       "3  d67cef6e-40fb-4301-9d0d-4c6674c275a7   \n",
       "4  621cf303-9bb0-4c63-8eb0-6de9a2538fda   \n",
       "\n",
       "                                         description  \n",
       "0  {\"purpose\": \"1. Outside media section try idea...  \n",
       "1  {\"purpose\": \"***\\n\\n|Yet know ten just.|Us ind...  \n",
       "2  {\"purpose\": \"1. Fall court door forget give as...  \n",
       "3  {\"purpose\": \"Lay authority debate fast. Cut re...  \n",
       "4  {\"purpose\": \"<!-- Talk significant yourself se...  "
      ]
     },
     "execution_count": 51,
     "metadata": {},
     "output_type": "execute_result"
    }
   ],
   "source": [
    "sf.head()"
   ]
  },
  {
   "cell_type": "code",
   "execution_count": 142,
   "metadata": {},
   "outputs": [],
   "source": [
    "conc = pd.merge(cf, sf, how='inner', on='error_id', suffixes=['_client', '_server'])\n",
    "conc.rename(columns={\"description_client\": \"json_client\", \"timestamp_server\": \"timestamp\", \"description_server\": \"json_server\"}, inplace=True)"
   ]
  },
  {
   "cell_type": "code",
   "execution_count": 143,
   "metadata": {},
   "outputs": [
    {
     "data": {
      "text/html": [
       "<div>\n",
       "<style scoped>\n",
       "    .dataframe tbody tr th:only-of-type {\n",
       "        vertical-align: middle;\n",
       "    }\n",
       "\n",
       "    .dataframe tbody tr th {\n",
       "        vertical-align: top;\n",
       "    }\n",
       "\n",
       "    .dataframe thead th {\n",
       "        text-align: right;\n",
       "    }\n",
       "</style>\n",
       "<table border=\"1\" class=\"dataframe\">\n",
       "  <thead>\n",
       "    <tr style=\"text-align: right;\">\n",
       "      <th></th>\n",
       "      <th>timestamp_client</th>\n",
       "      <th>error_id</th>\n",
       "      <th>player_id</th>\n",
       "      <th>json_client</th>\n",
       "      <th>timestamp</th>\n",
       "      <th>event_id</th>\n",
       "      <th>json_server</th>\n",
       "    </tr>\n",
       "  </thead>\n",
       "  <tbody>\n",
       "    <tr>\n",
       "      <th>0</th>\n",
       "      <td>1970-01-01 00:00:01.612068364</td>\n",
       "      <td>38152c64-d439-43cf-9856-4ca35d39d7ac</td>\n",
       "      <td>131824</td>\n",
       "      <td>{\"purpose\": \"&lt;!-- Serious raise try everyone. ...</td>\n",
       "      <td>1970-01-01 00:00:01.612068364</td>\n",
       "      <td>76</td>\n",
       "      <td>{\"purpose\": \"***\\n\\n|Yet know ten just.|Us ind...</td>\n",
       "    </tr>\n",
       "    <tr>\n",
       "      <th>1</th>\n",
       "      <td>1970-01-01 00:00:01.622449698</td>\n",
       "      <td>d67cef6e-40fb-4301-9d0d-4c6674c275a7</td>\n",
       "      <td>169066</td>\n",
       "      <td>{\"purpose\": \"&gt; Sound manage their.\\n\\nPopular ...</td>\n",
       "      <td>1970-01-01 00:00:01.622449698</td>\n",
       "      <td>39</td>\n",
       "      <td>{\"purpose\": \"Lay authority debate fast. Cut re...</td>\n",
       "    </tr>\n",
       "    <tr>\n",
       "      <th>2</th>\n",
       "      <td>1970-01-01 00:00:01.621928654</td>\n",
       "      <td>c6c1ec19-9582-4f1e-b487-0bb435fca435</td>\n",
       "      <td>292446</td>\n",
       "      <td>{\"purpose\": \"[Voice either simple huge result ...</td>\n",
       "      <td>1970-01-01 00:00:01.621928654</td>\n",
       "      <td>48</td>\n",
       "      <td>{\"purpose\": \"|Over focus prove security stock ...</td>\n",
       "    </tr>\n",
       "    <tr>\n",
       "      <th>3</th>\n",
       "      <td>1970-01-01 00:00:01.612131165</td>\n",
       "      <td>7aec96d7-938f-4812-9c42-64f02b156583</td>\n",
       "      <td>874829</td>\n",
       "      <td>{\"purpose\": \"```kitchen\\nGirl him sort such ad...</td>\n",
       "      <td>1970-01-01 00:00:01.612131165</td>\n",
       "      <td>91</td>\n",
       "      <td>{\"purpose\": \"&lt;!-- Whatever share expert that n...</td>\n",
       "    </tr>\n",
       "    <tr>\n",
       "      <th>4</th>\n",
       "      <td>1970-01-01 00:00:01.616823723</td>\n",
       "      <td>3d373bdc-59cf-4248-9868-6a0b5bfd10dd</td>\n",
       "      <td>852175</td>\n",
       "      <td>{\"purpose\": \"&lt;!-- Community air home project n...</td>\n",
       "      <td>1970-01-01 00:00:01.616823723</td>\n",
       "      <td>60</td>\n",
       "      <td>{\"purpose\": \"[Group recent student.](https://w...</td>\n",
       "    </tr>\n",
       "  </tbody>\n",
       "</table>\n",
       "</div>"
      ],
      "text/plain": [
       "               timestamp_client                              error_id  \\\n",
       "0 1970-01-01 00:00:01.612068364  38152c64-d439-43cf-9856-4ca35d39d7ac   \n",
       "1 1970-01-01 00:00:01.622449698  d67cef6e-40fb-4301-9d0d-4c6674c275a7   \n",
       "2 1970-01-01 00:00:01.621928654  c6c1ec19-9582-4f1e-b487-0bb435fca435   \n",
       "3 1970-01-01 00:00:01.612131165  7aec96d7-938f-4812-9c42-64f02b156583   \n",
       "4 1970-01-01 00:00:01.616823723  3d373bdc-59cf-4248-9868-6a0b5bfd10dd   \n",
       "\n",
       "   player_id                                        json_client  \\\n",
       "0     131824  {\"purpose\": \"<!-- Serious raise try everyone. ...   \n",
       "1     169066  {\"purpose\": \"> Sound manage their.\\n\\nPopular ...   \n",
       "2     292446  {\"purpose\": \"[Voice either simple huge result ...   \n",
       "3     874829  {\"purpose\": \"```kitchen\\nGirl him sort such ad...   \n",
       "4     852175  {\"purpose\": \"<!-- Community air home project n...   \n",
       "\n",
       "                      timestamp  event_id  \\\n",
       "0 1970-01-01 00:00:01.612068364        76   \n",
       "1 1970-01-01 00:00:01.622449698        39   \n",
       "2 1970-01-01 00:00:01.621928654        48   \n",
       "3 1970-01-01 00:00:01.612131165        91   \n",
       "4 1970-01-01 00:00:01.616823723        60   \n",
       "\n",
       "                                         json_server  \n",
       "0  {\"purpose\": \"***\\n\\n|Yet know ten just.|Us ind...  \n",
       "1  {\"purpose\": \"Lay authority debate fast. Cut re...  \n",
       "2  {\"purpose\": \"|Over focus prove security stock ...  \n",
       "3  {\"purpose\": \"<!-- Whatever share expert that n...  \n",
       "4  {\"purpose\": \"[Group recent student.](https://w...  "
      ]
     },
     "execution_count": 143,
     "metadata": {},
     "output_type": "execute_result"
    }
   ],
   "source": [
    "conc.head()"
   ]
  },
  {
   "cell_type": "code",
   "execution_count": 144,
   "metadata": {},
   "outputs": [
    {
     "name": "stdout",
     "output_type": "stream",
     "text": [
      "<class 'pandas.core.frame.DataFrame'>\n",
      "RangeIndex: 33354 entries, 0 to 33353\n",
      "Data columns (total 7 columns):\n",
      " #   Column            Non-Null Count  Dtype         \n",
      "---  ------            --------------  -----         \n",
      " 0   timestamp_client  33354 non-null  datetime64[ns]\n",
      " 1   error_id          33354 non-null  object        \n",
      " 2   player_id         33354 non-null  int64         \n",
      " 3   json_client       33354 non-null  object        \n",
      " 4   timestamp         33354 non-null  datetime64[ns]\n",
      " 5   event_id          33354 non-null  int64         \n",
      " 6   json_server       33354 non-null  object        \n",
      "dtypes: datetime64[ns](2), int64(2), object(3)\n",
      "memory usage: 1.8+ MB\n"
     ]
    }
   ],
   "source": [
    "conc.info()"
   ]
  },
  {
   "cell_type": "code",
   "execution_count": 145,
   "metadata": {},
   "outputs": [],
   "source": [
    "import sqlite3\n",
    "cnx = sqlite3.connect(os.path.abspath(os.path.abspath('./src/data/cheaters.db')))\n",
    "cheaters = pd.read_sql_query(\"SELECT * FROM cheaters\", cnx)\n",
    "cheaters['ban_time'] = cheaters['ban_time'].astype('datetime64[ns]')\n",
    "cnx.close()"
   ]
  },
  {
   "cell_type": "code",
   "execution_count": 60,
   "metadata": {},
   "outputs": [
    {
     "name": "stdout",
     "output_type": "stream",
     "text": [
      "<class 'pandas.core.frame.DataFrame'>\n",
      "RangeIndex: 16577 entries, 0 to 16576\n",
      "Data columns (total 2 columns):\n",
      " #   Column     Non-Null Count  Dtype         \n",
      "---  ------     --------------  -----         \n",
      " 0   player_id  16577 non-null  int64         \n",
      " 1   ban_time   16577 non-null  datetime64[ns]\n",
      "dtypes: datetime64[ns](1), int64(1)\n",
      "memory usage: 259.1 KB\n"
     ]
    }
   ],
   "source": [
    "cheaters.info()"
   ]
  },
  {
   "cell_type": "code",
   "execution_count": 59,
   "metadata": {},
   "outputs": [
    {
     "data": {
      "text/html": [
       "<div>\n",
       "<style scoped>\n",
       "    .dataframe tbody tr th:only-of-type {\n",
       "        vertical-align: middle;\n",
       "    }\n",
       "\n",
       "    .dataframe tbody tr th {\n",
       "        vertical-align: top;\n",
       "    }\n",
       "\n",
       "    .dataframe thead th {\n",
       "        text-align: right;\n",
       "    }\n",
       "</style>\n",
       "<table border=\"1\" class=\"dataframe\">\n",
       "  <thead>\n",
       "    <tr style=\"text-align: right;\">\n",
       "      <th></th>\n",
       "      <th>player_id</th>\n",
       "      <th>ban_time</th>\n",
       "    </tr>\n",
       "  </thead>\n",
       "  <tbody>\n",
       "    <tr>\n",
       "      <th>0</th>\n",
       "      <td>1065</td>\n",
       "      <td>2021-04-02 20:48:00</td>\n",
       "    </tr>\n",
       "    <tr>\n",
       "      <th>1</th>\n",
       "      <td>1148</td>\n",
       "      <td>2021-03-22 20:49:18</td>\n",
       "    </tr>\n",
       "    <tr>\n",
       "      <th>2</th>\n",
       "      <td>1154</td>\n",
       "      <td>2021-05-19 07:50:19</td>\n",
       "    </tr>\n",
       "    <tr>\n",
       "      <th>3</th>\n",
       "      <td>1219</td>\n",
       "      <td>2021-04-07 19:47:12</td>\n",
       "    </tr>\n",
       "    <tr>\n",
       "      <th>4</th>\n",
       "      <td>1230</td>\n",
       "      <td>2021-05-09 23:42:07</td>\n",
       "    </tr>\n",
       "  </tbody>\n",
       "</table>\n",
       "</div>"
      ],
      "text/plain": [
       "   player_id            ban_time\n",
       "0       1065 2021-04-02 20:48:00\n",
       "1       1148 2021-03-22 20:49:18\n",
       "2       1154 2021-05-19 07:50:19\n",
       "3       1219 2021-04-07 19:47:12\n",
       "4       1230 2021-05-09 23:42:07"
      ]
     },
     "execution_count": 59,
     "metadata": {},
     "output_type": "execute_result"
    }
   ],
   "source": [
    "cheaters.head()"
   ]
  },
  {
   "cell_type": "code",
   "execution_count": 146,
   "metadata": {},
   "outputs": [],
   "source": [
    "ex = pd.merge(conc, cheaters, how='inner', on='player_id')"
   ]
  },
  {
   "cell_type": "code",
   "execution_count": 147,
   "metadata": {},
   "outputs": [
    {
     "name": "stdout",
     "output_type": "stream",
     "text": [
      "<class 'pandas.core.frame.DataFrame'>\n",
      "RangeIndex: 8827 entries, 0 to 8826\n",
      "Data columns (total 8 columns):\n",
      " #   Column            Non-Null Count  Dtype         \n",
      "---  ------            --------------  -----         \n",
      " 0   timestamp_client  8827 non-null   datetime64[ns]\n",
      " 1   error_id          8827 non-null   object        \n",
      " 2   player_id         8827 non-null   int64         \n",
      " 3   json_client       8827 non-null   object        \n",
      " 4   timestamp         8827 non-null   datetime64[ns]\n",
      " 5   event_id          8827 non-null   int64         \n",
      " 6   json_server       8827 non-null   object        \n",
      " 7   ban_time          8827 non-null   datetime64[ns]\n",
      "dtypes: datetime64[ns](3), int64(2), object(3)\n",
      "memory usage: 551.8+ KB\n"
     ]
    }
   ],
   "source": [
    "ex.info()"
   ]
  },
  {
   "cell_type": "code",
   "execution_count": 148,
   "metadata": {},
   "outputs": [
    {
     "data": {
      "text/html": [
       "<div>\n",
       "<style scoped>\n",
       "    .dataframe tbody tr th:only-of-type {\n",
       "        vertical-align: middle;\n",
       "    }\n",
       "\n",
       "    .dataframe tbody tr th {\n",
       "        vertical-align: top;\n",
       "    }\n",
       "\n",
       "    .dataframe thead th {\n",
       "        text-align: right;\n",
       "    }\n",
       "</style>\n",
       "<table border=\"1\" class=\"dataframe\">\n",
       "  <thead>\n",
       "    <tr style=\"text-align: right;\">\n",
       "      <th></th>\n",
       "      <th>timestamp_client</th>\n",
       "      <th>error_id</th>\n",
       "      <th>player_id</th>\n",
       "      <th>json_client</th>\n",
       "      <th>timestamp</th>\n",
       "      <th>event_id</th>\n",
       "      <th>json_server</th>\n",
       "      <th>ban_time</th>\n",
       "    </tr>\n",
       "  </thead>\n",
       "  <tbody>\n",
       "    <tr>\n",
       "      <th>0</th>\n",
       "      <td>1970-01-01 00:00:01.621928654</td>\n",
       "      <td>c6c1ec19-9582-4f1e-b487-0bb435fca435</td>\n",
       "      <td>292446</td>\n",
       "      <td>{\"purpose\": \"[Voice either simple huge result ...</td>\n",
       "      <td>1970-01-01 00:00:01.621928654</td>\n",
       "      <td>48</td>\n",
       "      <td>{\"purpose\": \"|Over focus prove security stock ...</td>\n",
       "      <td>2021-02-06 11:32:01</td>\n",
       "    </tr>\n",
       "    <tr>\n",
       "      <th>1</th>\n",
       "      <td>1970-01-01 00:00:01.609658555</td>\n",
       "      <td>94660cc7-a68d-4c6c-b2de-edacc47755a3</td>\n",
       "      <td>674171</td>\n",
       "      <td>{\"purpose\": \"cost\\n\\t\\t\\t- White nearly operat...</td>\n",
       "      <td>1970-01-01 00:00:01.609658555</td>\n",
       "      <td>89</td>\n",
       "      <td>{\"purpose\": \"# Somebody sell fill practice cho...</td>\n",
       "      <td>2021-02-18 07:56:21</td>\n",
       "    </tr>\n",
       "    <tr>\n",
       "      <th>2</th>\n",
       "      <td>1970-01-01 00:00:01.612691679</td>\n",
       "      <td>64e46734-4b8a-41bf-aeea-c137bab70dfc</td>\n",
       "      <td>661597</td>\n",
       "      <td>{\"purpose\": \"[Necessary cover character.](http...</td>\n",
       "      <td>1970-01-01 00:00:01.612691679</td>\n",
       "      <td>84</td>\n",
       "      <td>{\"purpose\": \"1. Player today probably wind cen...</td>\n",
       "      <td>2021-04-27 12:41:13</td>\n",
       "    </tr>\n",
       "    <tr>\n",
       "      <th>3</th>\n",
       "      <td>1970-01-01 00:00:01.612980032</td>\n",
       "      <td>dbd4021a-6df6-4eaf-9547-8bb7bf8d25c8</td>\n",
       "      <td>793232</td>\n",
       "      <td>{\"purpose\": \"1. Support prepare food season qu...</td>\n",
       "      <td>1970-01-01 00:00:01.612980032</td>\n",
       "      <td>62</td>\n",
       "      <td>{\"purpose\": \"***Among place firm gun difficult...</td>\n",
       "      <td>2021-05-07 02:02:08</td>\n",
       "    </tr>\n",
       "    <tr>\n",
       "      <th>4</th>\n",
       "      <td>1970-01-01 00:00:01.622376349</td>\n",
       "      <td>d7e4c521-aeb8-4726-ad59-9606a3f0a70f</td>\n",
       "      <td>798639</td>\n",
       "      <td>{\"purpose\": \"Service garden once above wonder ...</td>\n",
       "      <td>1970-01-01 00:00:01.622376349</td>\n",
       "      <td>95</td>\n",
       "      <td>{\"purpose\": \"Set billion lawyer care whose art...</td>\n",
       "      <td>2021-04-07 10:54:27</td>\n",
       "    </tr>\n",
       "  </tbody>\n",
       "</table>\n",
       "</div>"
      ],
      "text/plain": [
       "               timestamp_client                              error_id  \\\n",
       "0 1970-01-01 00:00:01.621928654  c6c1ec19-9582-4f1e-b487-0bb435fca435   \n",
       "1 1970-01-01 00:00:01.609658555  94660cc7-a68d-4c6c-b2de-edacc47755a3   \n",
       "2 1970-01-01 00:00:01.612691679  64e46734-4b8a-41bf-aeea-c137bab70dfc   \n",
       "3 1970-01-01 00:00:01.612980032  dbd4021a-6df6-4eaf-9547-8bb7bf8d25c8   \n",
       "4 1970-01-01 00:00:01.622376349  d7e4c521-aeb8-4726-ad59-9606a3f0a70f   \n",
       "\n",
       "   player_id                                        json_client  \\\n",
       "0     292446  {\"purpose\": \"[Voice either simple huge result ...   \n",
       "1     674171  {\"purpose\": \"cost\\n\\t\\t\\t- White nearly operat...   \n",
       "2     661597  {\"purpose\": \"[Necessary cover character.](http...   \n",
       "3     793232  {\"purpose\": \"1. Support prepare food season qu...   \n",
       "4     798639  {\"purpose\": \"Service garden once above wonder ...   \n",
       "\n",
       "                      timestamp  event_id  \\\n",
       "0 1970-01-01 00:00:01.621928654        48   \n",
       "1 1970-01-01 00:00:01.609658555        89   \n",
       "2 1970-01-01 00:00:01.612691679        84   \n",
       "3 1970-01-01 00:00:01.612980032        62   \n",
       "4 1970-01-01 00:00:01.622376349        95   \n",
       "\n",
       "                                         json_server            ban_time  \n",
       "0  {\"purpose\": \"|Over focus prove security stock ... 2021-02-06 11:32:01  \n",
       "1  {\"purpose\": \"# Somebody sell fill practice cho... 2021-02-18 07:56:21  \n",
       "2  {\"purpose\": \"1. Player today probably wind cen... 2021-04-27 12:41:13  \n",
       "3  {\"purpose\": \"***Among place firm gun difficult... 2021-05-07 02:02:08  \n",
       "4  {\"purpose\": \"Set billion lawyer care whose art... 2021-04-07 10:54:27  "
      ]
     },
     "execution_count": 148,
     "metadata": {},
     "output_type": "execute_result"
    }
   ],
   "source": [
    "ex.head()"
   ]
  },
  {
   "cell_type": "code",
   "execution_count": 70,
   "metadata": {},
   "outputs": [
    {
     "name": "stdout",
     "output_type": "stream",
     "text": [
      "2023-08-30 00:00:00\n"
     ]
    }
   ],
   "source": [
    "import datetime\n",
    "now = datetime.datetime.now()\n",
    "\n",
    "def convert_ts_to_start_day(dt: datetime.datetime) -> datetime.datetime:\n",
    "    return datetime.datetime(dt.year, dt.month, dt.day)\n",
    "\n",
    "print(convert_ts_to_start_day(now))"
   ]
  },
  {
   "cell_type": "code",
   "execution_count": 149,
   "metadata": {},
   "outputs": [],
   "source": [
    "def compare(_id: int) -> bool:\n",
    "    one = ex.query(f'player_id=={_id}')[['ban_time', 'timestamp']]\n",
    "    if len(one) > 0:\n",
    "        s = one.iloc[0].timestamp\n",
    "        if one.iloc[0].ban_time < datetime.datetime(s.year, s.month, s.day):\n",
    "            return False\n",
    "    return True"
   ]
  },
  {
   "cell_type": "code",
   "execution_count": 150,
   "metadata": {},
   "outputs": [
    {
     "data": {
      "text/plain": [
       "True"
      ]
     },
     "execution_count": 150,
     "metadata": {},
     "output_type": "execute_result"
    }
   ],
   "source": [
    "compare(292446)"
   ]
  },
  {
   "cell_type": "code",
   "execution_count": 151,
   "metadata": {},
   "outputs": [],
   "source": [
    "n = conc.drop(ex[ex['player_id'].apply(lambda x: compare(x))].index)"
   ]
  },
  {
   "cell_type": "code",
   "execution_count": 152,
   "metadata": {},
   "outputs": [
    {
     "name": "stdout",
     "output_type": "stream",
     "text": [
      "<class 'pandas.core.frame.DataFrame'>\n",
      "RangeIndex: 24527 entries, 8827 to 33353\n",
      "Data columns (total 7 columns):\n",
      " #   Column            Non-Null Count  Dtype         \n",
      "---  ------            --------------  -----         \n",
      " 0   timestamp_client  24527 non-null  datetime64[ns]\n",
      " 1   error_id          24527 non-null  object        \n",
      " 2   player_id         24527 non-null  int64         \n",
      " 3   json_client       24527 non-null  object        \n",
      " 4   timestamp         24527 non-null  datetime64[ns]\n",
      " 5   event_id          24527 non-null  int64         \n",
      " 6   json_server       24527 non-null  object        \n",
      "dtypes: datetime64[ns](2), int64(2), object(3)\n",
      "memory usage: 1.3+ MB\n"
     ]
    }
   ],
   "source": [
    "n.info()"
   ]
  }
 ],
 "metadata": {
  "kernelspec": {
   "display_name": "venv",
   "language": "python",
   "name": "python3"
  },
  "language_info": {
   "codemirror_mode": {
    "name": "ipython",
    "version": 3
   },
   "file_extension": ".py",
   "mimetype": "text/x-python",
   "name": "python",
   "nbconvert_exporter": "python",
   "pygments_lexer": "ipython3",
   "version": "3.10.6"
  },
  "orig_nbformat": 4
 },
 "nbformat": 4,
 "nbformat_minor": 2
}
